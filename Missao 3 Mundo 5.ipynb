{
 "cells": [
  {
   "cell_type": "code",
   "execution_count": 2,
   "id": "576d81c7-68fc-4982-b094-7bb937980a01",
   "metadata": {},
   "outputs": [
    {
     "name": "stdout",
     "output_type": "stream",
     "text": [
      "  ID;Duration;Date;Pulse;Maxpulse;Calories\n",
      "0           31;60;'2020/12/31';92;115;2430\n",
      "1          30;60;'2020/12/30';102;129;3803\n",
      "2          29;60;'2020/12/29';100;132;2800\n",
      "3           28;60;'2020/12/28';103;132;NaN\n",
      "4           27;60;'2020/12/27';92;118;2410\n"
     ]
    }
   ],
   "source": [
    "import pandas as pd\n",
    "\n",
    "df = pd.read_csv('Downloads/id.csv', sep=',', engine='python', encoding='utf-8')\n",
    "print(df.head())"
   ]
  },
  {
   "cell_type": "code",
   "execution_count": 4,
   "id": "e037bb9c-858f-4c56-aa12-a627e1cc6c14",
   "metadata": {},
   "outputs": [
    {
     "name": "stdout",
     "output_type": "stream",
     "text": [
      "  ID;Duration;Date;Pulse;Maxpulse;Calories\n",
      "0           31;60;'2020/12/31';92;115;2430\n",
      "1          30;60;'2020/12/30';102;129;3803\n",
      "2          29;60;'2020/12/29';100;132;2800\n",
      "3           28;60;'2020/12/28';103;132;NaN\n",
      "4           27;60;'2020/12/27';92;118;2410\n"
     ]
    }
   ],
   "source": [
    "\n",
    "import pandas as pd\n",
    "\n",
    "\n",
    "df = pd.read_csv('Downloads/id.csv') \n",
    "print(df.head())\n"
   ]
  },
  {
   "cell_type": "code",
   "execution_count": 5,
   "id": "d9c525d7-623f-4c00-9525-137f1f2e884b",
   "metadata": {},
   "outputs": [
    {
     "name": "stdout",
     "output_type": "stream",
     "text": [
      "   ID  Duration          Date  Pulse  Maxpulse Calories\n",
      "0  31        60  '2020/12/31'     92       115     2430\n",
      "1  30        60  '2020/12/30'    102       129     3803\n",
      "2  29        60  '2020/12/29'    100       132     2800\n",
      "3  28        60  '2020/12/28'    103       132      NaN\n",
      "4  27        60  '2020/12/27'     92       118     2410\n",
      "              ID    Duration       Pulse    Maxpulse\n",
      "count  32.000000   32.000000   32.000000   32.000000\n",
      "mean   14.875000   68.437500  103.500000  128.500000\n",
      "std     9.664534   70.039591    7.832933   12.998759\n",
      "min     0.000000   30.000000   90.000000  101.000000\n",
      "25%     6.750000   60.000000  100.000000  120.000000\n",
      "50%    14.500000   60.000000  102.500000  127.500000\n",
      "75%    23.250000   60.000000  106.500000  132.250000\n",
      "max    31.000000  450.000000  130.000000  175.000000\n"
     ]
    }
   ],
   "source": [
    "import pandas as pd\n",
    "\n",
    "df = pd.read_csv('Downloads/id.csv', sep=';') \n",
    "\n",
    "\n",
    "print(df.head())\n",
    "\n",
    "\n",
    "dados = df\n",
    "\n",
    "print(dados.describe())  # Exemplo: exibe estatísticas descritivas dos dados\n"
   ]
  },
  {
   "cell_type": "code",
   "execution_count": 6,
   "id": "f25a98a6-1944-46a7-b75f-74d0b0c083c1",
   "metadata": {},
   "outputs": [
    {
     "name": "stdout",
     "output_type": "stream",
     "text": [
      "<class 'pandas.core.frame.DataFrame'>\n",
      "RangeIndex: 32 entries, 0 to 31\n",
      "Data columns (total 6 columns):\n",
      " #   Column    Non-Null Count  Dtype \n",
      "---  ------    --------------  ----- \n",
      " 0   ID        32 non-null     int64 \n",
      " 1   Duration  32 non-null     int64 \n",
      " 2   Date      31 non-null     object\n",
      " 3   Pulse     32 non-null     int64 \n",
      " 4   Maxpulse  32 non-null     int64 \n",
      " 5   Calories  30 non-null     object\n",
      "dtypes: int64(4), object(2)\n",
      "memory usage: 1.6+ KB\n",
      "None\n",
      "   ID  Duration          Date  Pulse  Maxpulse Calories\n",
      "0  31        60  '2020/12/31'     92       115     2430\n",
      "1  30        60  '2020/12/30'    102       129     3803\n",
      "2  29        60  '2020/12/29'    100       132     2800\n",
      "3  28        60  '2020/12/28'    103       132      NaN\n",
      "4  27        60  '2020/12/27'     92       118     2410\n",
      "    ID  Duration          Date  Pulse  Maxpulse Calories\n",
      "27   3        45  '2020/12/04'    109       175     2824\n",
      "28   2        60  '2020/12/03'    103       135     3400\n",
      "29   1        60  '2020/12/02'    117       145     4790\n",
      "30   1        60  '2020/12/21'    108       131     3642\n",
      "31   0        60  '2020/12/01'    110       130     4091\n"
     ]
    }
   ],
   "source": [
    "\n",
    "print(dados.info())\n",
    "\n",
    "\n",
    "print(dados.head())\n",
    "\n",
    "print(dados.tail())\n"
   ]
  },
  {
   "cell_type": "code",
   "execution_count": 7,
   "id": "b2aaae45-d4c7-4614-b76b-b07c4292af72",
   "metadata": {},
   "outputs": [
    {
     "name": "stdout",
     "output_type": "stream",
     "text": [
      "   ID  Duration          Date  Pulse  Maxpulse Calories\n",
      "0  31        60  '2020/12/31'     92       115     2430\n",
      "1  30        60  '2020/12/30'    102       129     3803\n",
      "2  29        60  '2020/12/29'    100       132     2800\n",
      "3  28        60  '2020/12/28'    103       132      NaN\n",
      "4  27        60  '2020/12/27'     92       118     2410\n",
      "Index(['ID', 'Duration', 'Date', 'Pulse', 'Maxpulse', 'Calories'], dtype='object')\n"
     ]
    }
   ],
   "source": [
    "\n",
    "\n",
    "# Cria uma cópia do DataFrame original\n",
    "dados_copia = dados.copy()\n",
    "\n",
    "# Verifica se a cópia foi criada com sucesso\n",
    "print(dados_copia.head())\n",
    "print(dados.columns)\n"
   ]
  },
  {
   "cell_type": "code",
   "execution_count": 12,
   "id": "c63e1f9f-2a60-4c3e-9f3c-db4c8009491e",
   "metadata": {},
   "outputs": [
    {
     "name": "stdout",
     "output_type": "stream",
     "text": [
      "Index(['ID', 'Duration', 'Date', 'Pulse', 'Maxpulse', 'Calories'], dtype='object')\n"
     ]
    }
   ],
   "source": [
    "\n",
    "print(dados.columns) \n",
    "\n",
    "# Substitui valores nulos na coluna 'Calories' por 0\n",
    "dados['Calories'].fillna(0, inplace=True)  \n"
   ]
  },
  {
   "cell_type": "code",
   "execution_count": 14,
   "id": "4def5ef5-9755-4eb8-a60a-ba21cb1d5906",
   "metadata": {},
   "outputs": [
    {
     "name": "stdout",
     "output_type": "stream",
     "text": [
      "    ID  Duration       Date  Pulse  Maxpulse Calories\n",
      "0   31        60 2020-12-31     92       115     2430\n",
      "1   30        60 2020-12-30    102       129     3803\n",
      "2   29        60 2020-12-29    100       132     2800\n",
      "3   28        60 2020-12-28    103       132      NaN\n",
      "4   27        60 2020-12-27     92       118     2410\n",
      "5   26        60        NaT    100       120     2500\n",
      "6   25        60 2020-12-25    102       126     3345\n",
      "7   24        45 2020-12-24    105       132     2460\n",
      "8   23        60 2020-12-23    130       101     3000\n",
      "9   22        45        NaT    100       119     2820\n",
      "10  20        45 2020-12-20     97       125   2430 2\n",
      "11  19        60 2020-12-19    103       123     3230\n",
      "12  18        45 2020-12-18     90       112      NaN\n",
      "13  17        60 2020-12-17    100       120     3000\n",
      "14  16        60 2020-12-16     98       120     2152\n",
      "15  15        60 2020-12-15     98       123     2750\n",
      "16  14        60 2020-12-14    104       132     3793\n",
      "17  13        60 2020-12-13    106       128     3453\n",
      "18  12        60 2020-12-12    100       120     2507\n",
      "19  11        60 2020-12-12    100       120     2507\n",
      "20  10        60 2020-12-11    103       147     3293\n",
      "21   9        60 2020-12-10     98       124     2690\n",
      "22   8        30 2020-12-09    109       133     1951\n",
      "23   7       450 2020-12-08    104       134     2533\n",
      "24   6        60 2020-12-07    110       136     3740\n",
      "25   5        60 2020-12-06    102       127     3000\n",
      "26   4        45 2020-12-05    117       148     4060\n",
      "27   3        45 2020-12-04    109       175     2824\n",
      "28   2        60 2020-12-03    103       135     3400\n",
      "29   1        60 2020-12-02    117       145     4790\n",
      "30   1        60 2020-12-21    108       131     3642\n",
      "31   0        60 2020-12-01    110       130     4091\n"
     ]
    }
   ],
   "source": [
    "import pandas as pd\n",
    "# Substitui valores nulos na coluna 'Date' por '1900/01/01'\n",
    "dados['Date'].fillna('1900/01/01', inplace=True)\n",
    "\n",
    "\n",
    "# Transforma os dados da coluna 'Date' em datetime\n",
    "dados_copia['Date'] = pd.to_datetime(dados_copia['Date'], errors='coerce')\n",
    "# Imprime o conjunto de dados para verificar a alteração\n",
    "print(dados_copia)\n"
   ]
  },
  {
   "cell_type": "code",
   "execution_count": 15,
   "id": "3fc0b51f-ebbe-4cc7-a1ec-b6120b63463e",
   "metadata": {},
   "outputs": [
    {
     "name": "stdout",
     "output_type": "stream",
     "text": [
      "   ID  Duration       Date  Pulse  Maxpulse Calories\n",
      "0  31        60 2020-12-31     92       115     2430\n",
      "1  30        60 2020-12-30    102       129     3803\n",
      "2  29        60 2020-12-29    100       132     2800\n",
      "3  28        60 2020-12-28    103       132      NaN\n",
      "4  27        60 2020-12-27     92       118     2410\n"
     ]
    }
   ],
   "source": [
    "import pandas as pd\n",
    "# Substitui '1900/01/01' por NaN na coluna 'Date'\n",
    "dados_copia['Date'] = dados_copia['Date'].replace('1900/01/01', pd.NaT)\n",
    "\n",
    "# Transforma a coluna 'Date' para datetime\n",
    "dados_copia['Date'] = pd.to_datetime(dados_copia['Date'])\n",
    "\n",
    "\n",
    "print(dados_copia.head())\n"
   ]
  },
  {
   "cell_type": "code",
   "execution_count": 16,
   "id": "073e3ae7-103f-48d3-9e8f-e066cab7ebec",
   "metadata": {},
   "outputs": [
    {
     "name": "stdout",
     "output_type": "stream",
     "text": [
      "   ID  Duration       Date  Pulse  Maxpulse Calories\n",
      "0  31        60 2020-12-31     92       115     2430\n",
      "1  30        60 2020-12-30    102       129     3803\n",
      "2  29        60 2020-12-29    100       132     2800\n",
      "3  28        60 2020-12-28    103       132      NaN\n",
      "4  27        60 2020-12-27     92       118     2410\n"
     ]
    }
   ],
   "source": [
    "import pandas as pd\n",
    "# Substitui '20201226' por '2020/12/26' na coluna 'Date'\n",
    "dados_copia['Date'] = dados_copia['Date'].replace('20201226', '2020/12/26')\n",
    "\n",
    "# Transforma a coluna 'Date' para datetime\n",
    "dados_copia['Date'] = pd.to_datetime(dados_copia['Date'])\n",
    "\n",
    "# Imprime o conjunto de dados para verificar a alteração\n",
    "print(dados_copia.head())\n"
   ]
  },
  {
   "cell_type": "code",
   "execution_count": 17,
   "id": "495938cc-5e1c-4b92-8e84-47085906ec8b",
   "metadata": {},
   "outputs": [
    {
     "name": "stdout",
     "output_type": "stream",
     "text": [
      "   ID  Duration       Date  Pulse  Maxpulse Calories\n",
      "0  31        60 2020-12-31     92       115     2430\n",
      "1  30        60 2020-12-30    102       129     3803\n",
      "2  29        60 2020-12-29    100       132     2800\n",
      "3  28        60 2020-12-28    103       132      NaN\n",
      "4  27        60 2020-12-27     92       118     2410\n"
     ]
    }
   ],
   "source": [
    "import pandas as pd\n",
    "# Transforma a coluna 'Date' para datetime\n",
    "dados_copia['Date'] = pd.to_datetime(dados_copia['Date'])\n",
    "\n",
    "\n",
    "print(dados_copia.head())\n"
   ]
  },
  {
   "cell_type": "code",
   "execution_count": 18,
   "id": "c339b7ed-dc75-4a4b-b44d-652e28bbb6cf",
   "metadata": {},
   "outputs": [
    {
     "name": "stdout",
     "output_type": "stream",
     "text": [
      "   ID  Duration       Date  Pulse  Maxpulse Calories\n",
      "0  31        60 2020-12-31     92       115     2430\n",
      "1  30        60 2020-12-30    102       129     3803\n",
      "2  29        60 2020-12-29    100       132     2800\n",
      "3  28        60 2020-12-28    103       132      NaN\n",
      "4  27        60 2020-12-27     92       118     2410\n"
     ]
    }
   ],
   "source": [
    "# Remove registros com valores nulos na coluna 'Date'\n",
    "dados_copia.dropna(subset=['Date'], inplace=True)\n",
    "\n",
    "\n",
    "print(dados_copia.head())\n"
   ]
  },
  {
   "cell_type": "code",
   "execution_count": 20,
   "id": "8c4390e1-d894-4e59-9135-4b8841dc3aad",
   "metadata": {},
   "outputs": [
    {
     "name": "stdout",
     "output_type": "stream",
     "text": [
      "    ID  Duration       Date  Pulse  Maxpulse Calories\n",
      "0   31        60 2020-12-31     92       115     2430\n",
      "1   30        60 2020-12-30    102       129     3803\n",
      "2   29        60 2020-12-29    100       132     2800\n",
      "3   28        60 2020-12-28    103       132      NaN\n",
      "4   27        60 2020-12-27     92       118     2410\n",
      "6   25        60 2020-12-25    102       126     3345\n",
      "7   24        45 2020-12-24    105       132     2460\n",
      "8   23        60 2020-12-23    130       101     3000\n",
      "10  20        45 2020-12-20     97       125   2430 2\n",
      "11  19        60 2020-12-19    103       123     3230\n",
      "12  18        45 2020-12-18     90       112      NaN\n",
      "13  17        60 2020-12-17    100       120     3000\n",
      "14  16        60 2020-12-16     98       120     2152\n",
      "15  15        60 2020-12-15     98       123     2750\n",
      "16  14        60 2020-12-14    104       132     3793\n",
      "17  13        60 2020-12-13    106       128     3453\n",
      "18  12        60 2020-12-12    100       120     2507\n",
      "19  11        60 2020-12-12    100       120     2507\n",
      "20  10        60 2020-12-11    103       147     3293\n",
      "21   9        60 2020-12-10     98       124     2690\n",
      "22   8        30 2020-12-09    109       133     1951\n",
      "23   7       450 2020-12-08    104       134     2533\n",
      "24   6        60 2020-12-07    110       136     3740\n",
      "25   5        60 2020-12-06    102       127     3000\n",
      "26   4        45 2020-12-05    117       148     4060\n",
      "27   3        45 2020-12-04    109       175     2824\n",
      "28   2        60 2020-12-03    103       135     3400\n",
      "29   1        60 2020-12-02    117       145     4790\n",
      "30   1        60 2020-12-21    108       131     3642\n",
      "31   0        60 2020-12-01    110       130     4091\n"
     ]
    }
   ],
   "source": [
    "# Imprime o DataFrame para verificar as transformações\n",
    "print(dados_copia)\n"
   ]
  },
  {
   "cell_type": "code",
   "execution_count": null,
   "id": "e599f8d5-513a-45cf-a261-eb894438ad66",
   "metadata": {},
   "outputs": [],
   "source": []
  }
 ],
 "metadata": {
  "kernelspec": {
   "display_name": "Python 3 (ipykernel)",
   "language": "python",
   "name": "python3"
  },
  "language_info": {
   "codemirror_mode": {
    "name": "ipython",
    "version": 3
   },
   "file_extension": ".py",
   "mimetype": "text/x-python",
   "name": "python",
   "nbconvert_exporter": "python",
   "pygments_lexer": "ipython3",
   "version": "3.12.3"
  }
 },
 "nbformat": 4,
 "nbformat_minor": 5
}
